{
 "cells": [
  {
   "cell_type": "markdown",
   "id": "c590f1d6-db4c-454b-ada8-be15741d4587",
   "metadata": {
    "execution": {
     "iopub.execute_input": "2024-09-18T10:54:31.915019Z",
     "iopub.status.busy": "2024-09-18T10:54:31.914021Z",
     "iopub.status.idle": "2024-09-18T10:54:31.928025Z",
     "shell.execute_reply": "2024-09-18T10:54:31.927021Z",
     "shell.execute_reply.started": "2024-09-18T10:54:31.915019Z"
    }
   },
   "source": [
    "# <span style='color:#1ABC9C '>Data Cleaning</span>\n",
    "*Data cleaning is an essential step in the data preprocessing pipeline for any data science or analytics project.\n",
    "Messy, inconsistent, or missing data can lead to inaccurate insights and model predictions.* </br>\n",
    "In this article, we’ll explore the fundamentals of data cleaning using Python and provide you with practical code examples."
   ]
  },
  {
   "cell_type": "markdown",
   "id": "1eb64a0c-5722-4c3d-9059-09b946827689",
   "metadata": {},
   "source": [
    "## <span style='color:#E67E22 '>Why Cleaning Matters ?  </span>\n",
    "Before diving into the code, let’s briefly discuss why data cleaning is crucial:\n",
    "\n",
    "<span style='color:#BDC3C7 '>\n",
    "    \n",
    "1. **Accuracy:**  Clean data ensures that your analysis and machine learning models are based on accurate and reliable information.\n",
    "\n",
    "2. **Consistency:**  Inconsistent data can lead to errors, especially when working with categorical variables, date formats, or units of measurement.\n",
    "3. **Completeness:**  Missing data can cause issues in analysis and modeling. Handling missing values is an essential part of data cleaning.\n",
    "\n",
    "</span>"
   ]
  },
  {
   "cell_type": "markdown",
   "id": "60a2b343-bc82-4fbf-8644-8e8e1a94cede",
   "metadata": {},
   "source": [
    "## <span style='color:#E67E22 '>About Dataset </span>\n",
    "The Dataset is about Steam Topsellers Action Games.\n",
    "\n",
    "**It is crucial to have a greater understanding of dataset before doing anything**\n",
    "\n",
    "- Name : Contains the name of games \n",
    "- Price : Price of Games in $\n",
    "- Release_date : When was the game released\n",
    "- Review_no : How many reviews were given to game\n",
    "- Review_type : How was the Reviews \n",
    "\n",
    "('Very Positive', 'Mostly Positive', 'Mixed', 'Positive',\n",
    "       'Overwhelmingly Positive', 'Mostly Negative', 'Very Negative',\n",
    "       'Overwhelmingly Negative')\n",
    "- Tags : The different tags given to the game e.g., Adventure,Fantasy etc\n",
    "- Description : The description of Game\n"
   ]
  },
  {
   "cell_type": "markdown",
   "id": "621eeb21-c813-4cac-84be-71d3b7dc9aef",
   "metadata": {},
   "source": [
    "## <span style='color:#E67E22 '>Data Qualtiy Dimensions</span>\n",
    "- **Completness** --> is data missing?\n",
    "- **Validity** --> e.g height given in negative\n",
    "- **Accuracy** --> height is +ive but is inaccurate e.g height of adult is 1m\n",
    "- **Consistency** --> e.g in this data somewhere it is written New York and somewhere NY."
   ]
  },
  {
   "cell_type": "markdown",
   "id": "f930a941-a2de-4db1-bc18-7c2bd02407e2",
   "metadata": {},
   "source": [
    "### <span style='color:#E67E22  '>Types of Assessment:</span>\n",
    "1. *Manual Assessment* --> Look through the data manually in excel , googel sheets\n",
    "2. *Programmatic Assessment* --> Use pandas functions (info,describe,etc) to get understanding of data"
   ]
  },
  {
   "cell_type": "markdown",
   "id": "a2405ed1-c2c7-43e9-8207-8420c56ab828",
   "metadata": {},
   "source": [
    "**In this Notebook will go through MANUAL ASSESEMENT** \n",
    "\n",
    "**The rest will be done when doing EDA**\n",
    "## <span style='color:#E67E22  '>Issues with the Dataset:</span>\n",
    "\n",
    " \n",
    "### <span style='color:#F39C12  '>Price</span>\n",
    "- Price has $ sign\n",
    "- Price has missing values\n",
    "- Price has 'Prepurchase' and 'Free to Play'\n",
    "\n",
    "### <span style='color:#F39C12  '>Review_no</span>\n",
    "- Review no has 'User Reviews'(should be removed)\n",
    "- Review no has ',' between numbers\n",
    "- Review has missing values\n",
    "\n",
    "### <span style='color:#F39C12  '>Review_type</span>\n",
    "- Review type has 'Overwhelmingly Positive','Very Positive','Mixed','Mostly Positive','Very Negative'\n",
    "- Review type has Null values\n",
    "\n",
    "### <span style='color:#F39C12  '>Release_date</span>\n",
    "- Date is well structred\n",
    "- Date has Null values\n"
   ]
  },
  {
   "cell_type": "code",
   "execution_count": 2,
   "id": "61eb21ab-b6dd-4076-adf8-2a015c07b01c",
   "metadata": {
    "execution": {
     "iopub.execute_input": "2024-09-20T05:45:44.019195Z",
     "iopub.status.busy": "2024-09-20T05:45:44.019195Z",
     "iopub.status.idle": "2024-09-20T05:45:52.634070Z",
     "shell.execute_reply": "2024-09-20T05:45:52.633140Z",
     "shell.execute_reply.started": "2024-09-20T05:45:44.019195Z"
    }
   },
   "outputs": [],
   "source": [
    "# Importing Libraries \n",
    "import numpy as np\n",
    "import pandas as pd\n",
    "import matplotlib.pyplot as plt\n",
    "import seaborn as sns"
   ]
  },
  {
   "cell_type": "code",
   "execution_count": 4,
   "id": "c4c85f58-85cd-4002-a4dc-1a7e88957c2f",
   "metadata": {
    "execution": {
     "iopub.execute_input": "2024-09-20T05:46:05.666948Z",
     "iopub.status.busy": "2024-09-20T05:46:05.665952Z",
     "iopub.status.idle": "2024-09-20T05:46:05.864562Z",
     "shell.execute_reply": "2024-09-20T05:46:05.862568Z",
     "shell.execute_reply.started": "2024-09-20T05:46:05.666948Z"
    }
   },
   "outputs": [],
   "source": [
    "games = pd.read_csv('steam_uncleaned.csv',index_col=0,na_values='Prepurchase')"
   ]
  },
  {
   "cell_type": "code",
   "execution_count": 5,
   "id": "7e42c10a-56dd-4c91-9364-4655c584098d",
   "metadata": {
    "execution": {
     "iopub.execute_input": "2024-09-20T05:46:09.099183Z",
     "iopub.status.busy": "2024-09-20T05:46:09.098219Z",
     "iopub.status.idle": "2024-09-20T05:46:09.142067Z",
     "shell.execute_reply": "2024-09-20T05:46:09.140072Z",
     "shell.execute_reply.started": "2024-09-20T05:46:09.099183Z"
    }
   },
   "outputs": [
    {
     "data": {
      "text/html": [
       "<div>\n",
       "<style scoped>\n",
       "    .dataframe tbody tr th:only-of-type {\n",
       "        vertical-align: middle;\n",
       "    }\n",
       "\n",
       "    .dataframe tbody tr th {\n",
       "        vertical-align: top;\n",
       "    }\n",
       "\n",
       "    .dataframe thead th {\n",
       "        text-align: right;\n",
       "    }\n",
       "</style>\n",
       "<table border=\"1\" class=\"dataframe\">\n",
       "  <thead>\n",
       "    <tr style=\"text-align: right;\">\n",
       "      <th></th>\n",
       "      <th>Price</th>\n",
       "      <th>Release_date</th>\n",
       "      <th>Review_no</th>\n",
       "      <th>Review_type</th>\n",
       "      <th>Tags</th>\n",
       "      <th>Description</th>\n",
       "    </tr>\n",
       "    <tr>\n",
       "      <th>Name</th>\n",
       "      <th></th>\n",
       "      <th></th>\n",
       "      <th></th>\n",
       "      <th></th>\n",
       "      <th></th>\n",
       "      <th></th>\n",
       "    </tr>\n",
       "  </thead>\n",
       "  <tbody>\n",
       "    <tr>\n",
       "      <th>Black Myth: Wukong</th>\n",
       "      <td>$59.99</td>\n",
       "      <td>Aug 20, 2024</td>\n",
       "      <td>574,097 User Reviews</td>\n",
       "      <td>Overwhelmingly Positive</td>\n",
       "      <td>Mythology,Action RPG,Action,Souls-like,RPG,Com...</td>\n",
       "      <td>Black Myth: Wukong is an action RPG rooted in ...</td>\n",
       "    </tr>\n",
       "    <tr>\n",
       "      <th>Warhammer 40,000: Space Marine 2</th>\n",
       "      <td>NaN</td>\n",
       "      <td>Sep 9, 2024</td>\n",
       "      <td>23,591 User Reviews</td>\n",
       "      <td>Very Positive</td>\n",
       "      <td>Warhammer 40K,Action,Adventure,Third-Person Sh...</td>\n",
       "      <td>Embody the superhuman skill and brutality of a...</td>\n",
       "    </tr>\n",
       "    <tr>\n",
       "      <th>Counter-Strike 2</th>\n",
       "      <td>Free To Play</td>\n",
       "      <td>Aug 21, 2012</td>\n",
       "      <td>8,286,153 User Reviews</td>\n",
       "      <td>Very Positive</td>\n",
       "      <td>FPS,Shooter,Multiplayer,Competitive,Action,Tea...</td>\n",
       "      <td>For over two decades, Counter-Strike has offer...</td>\n",
       "    </tr>\n",
       "    <tr>\n",
       "      <th>Warframe</th>\n",
       "      <td>Free To Play</td>\n",
       "      <td>NaN</td>\n",
       "      <td>589,527 User Reviews</td>\n",
       "      <td>Very Positive</td>\n",
       "      <td>Free to Play,Action RPG,Looter Shooter,Third-P...</td>\n",
       "      <td>Awaken as an unstoppable warrior and battle al...</td>\n",
       "    </tr>\n",
       "    <tr>\n",
       "      <th>Grand Theft Auto V</th>\n",
       "      <td>$10.48</td>\n",
       "      <td>Apr 14, 2015</td>\n",
       "      <td>1,703,156 User Reviews</td>\n",
       "      <td>Very Positive</td>\n",
       "      <td>Open World,Action,Multiplayer,Crime,Automobile...</td>\n",
       "      <td>Grand Theft Auto V for PC offers players the o...</td>\n",
       "    </tr>\n",
       "  </tbody>\n",
       "</table>\n",
       "</div>"
      ],
      "text/plain": [
       "                                         Price  Release_date   \n",
       "Name                                                           \n",
       "Black Myth: Wukong                      $59.99  Aug 20, 2024  \\\n",
       "Warhammer 40,000: Space Marine 2           NaN   Sep 9, 2024   \n",
       "Counter-Strike 2                  Free To Play  Aug 21, 2012   \n",
       "Warframe                          Free To Play           NaN   \n",
       "Grand Theft Auto V                      $10.48  Apr 14, 2015   \n",
       "\n",
       "                                                 Review_no   \n",
       "Name                                                         \n",
       "Black Myth: Wukong                   574,097 User Reviews   \\\n",
       "Warhammer 40,000: Space Marine 2      23,591 User Reviews    \n",
       "Counter-Strike 2                   8,286,153 User Reviews    \n",
       "Warframe                             589,527 User Reviews    \n",
       "Grand Theft Auto V                 1,703,156 User Reviews    \n",
       "\n",
       "                                              Review_type   \n",
       "Name                                                        \n",
       "Black Myth: Wukong                Overwhelmingly Positive  \\\n",
       "Warhammer 40,000: Space Marine 2            Very Positive   \n",
       "Counter-Strike 2                            Very Positive   \n",
       "Warframe                                    Very Positive   \n",
       "Grand Theft Auto V                          Very Positive   \n",
       "\n",
       "                                                                               Tags   \n",
       "Name                                                                                  \n",
       "Black Myth: Wukong                Mythology,Action RPG,Action,Souls-like,RPG,Com...  \\\n",
       "Warhammer 40,000: Space Marine 2  Warhammer 40K,Action,Adventure,Third-Person Sh...   \n",
       "Counter-Strike 2                  FPS,Shooter,Multiplayer,Competitive,Action,Tea...   \n",
       "Warframe                          Free to Play,Action RPG,Looter Shooter,Third-P...   \n",
       "Grand Theft Auto V                Open World,Action,Multiplayer,Crime,Automobile...   \n",
       "\n",
       "                                                                        Description  \n",
       "Name                                                                                 \n",
       "Black Myth: Wukong                Black Myth: Wukong is an action RPG rooted in ...  \n",
       "Warhammer 40,000: Space Marine 2  Embody the superhuman skill and brutality of a...  \n",
       "Counter-Strike 2                  For over two decades, Counter-Strike has offer...  \n",
       "Warframe                          Awaken as an unstoppable warrior and battle al...  \n",
       "Grand Theft Auto V                Grand Theft Auto V for PC offers players the o...  "
      ]
     },
     "execution_count": 5,
     "metadata": {},
     "output_type": "execute_result"
    }
   ],
   "source": [
    "games.head()"
   ]
  },
  {
   "cell_type": "code",
   "execution_count": 4,
   "id": "d954a7ef-c735-4af1-994d-aebdf8291b20",
   "metadata": {
    "execution": {
     "iopub.execute_input": "2024-09-19T03:50:51.193105Z",
     "iopub.status.busy": "2024-09-19T03:50:51.193105Z",
     "iopub.status.idle": "2024-09-19T03:50:51.217201Z",
     "shell.execute_reply": "2024-09-19T03:50:51.215593Z",
     "shell.execute_reply.started": "2024-09-19T03:50:51.193105Z"
    }
   },
   "outputs": [
    {
     "name": "stdout",
     "output_type": "stream",
     "text": [
      "<class 'pandas.core.frame.DataFrame'>\n",
      "Index: 7812 entries, 0 to 7811\n",
      "Data columns (total 7 columns):\n",
      " #   Column        Non-Null Count  Dtype \n",
      "---  ------        --------------  ----- \n",
      " 0   Name          7812 non-null   object\n",
      " 1   Price         7761 non-null   object\n",
      " 2   Release_date  7793 non-null   object\n",
      " 3   Review_no     7765 non-null   object\n",
      " 4   Review_type   7765 non-null   object\n",
      " 5   Tags          7812 non-null   object\n",
      " 6   Description   7386 non-null   object\n",
      "dtypes: object(7)\n",
      "memory usage: 488.2+ KB\n"
     ]
    }
   ],
   "source": [
    "games.info()"
   ]
  },
  {
   "cell_type": "markdown",
   "id": "9a2e5fda-f0f2-4a59-a02a-361a7ee88307",
   "metadata": {},
   "source": [
    "*The columns other than 'Name' and 'Tags' have missing valeus* "
   ]
  },
  {
   "cell_type": "markdown",
   "id": "dc212e6e-3ea4-416f-a4a4-501965a506c1",
   "metadata": {},
   "source": [
    "### <span style='color:#F39C12  '>Price Column Solution</span>\n",
    "- Removing the $ sign\n",
    "- Making the Free to Play to 0\n",
    "- Making the Prepurphase value to NaN (Done)"
   ]
  },
  {
   "cell_type": "code",
   "execution_count": 5,
   "id": "2e20644e-8453-4301-a6a4-e9b03d579b9b",
   "metadata": {
    "execution": {
     "iopub.execute_input": "2024-09-19T03:50:51.220194Z",
     "iopub.status.busy": "2024-09-19T03:50:51.219197Z",
     "iopub.status.idle": "2024-09-19T03:50:51.249116Z",
     "shell.execute_reply": "2024-09-19T03:50:51.247122Z",
     "shell.execute_reply.started": "2024-09-19T03:50:51.220194Z"
    }
   },
   "outputs": [],
   "source": [
    "games['Price'] = games['Price'].str.replace('$','').str.strip()"
   ]
  },
  {
   "cell_type": "code",
   "execution_count": 6,
   "id": "72a5f6a0-d281-47be-9601-a1c474fc867c",
   "metadata": {
    "execution": {
     "iopub.execute_input": "2024-09-19T03:50:51.254121Z",
     "iopub.status.busy": "2024-09-19T03:50:51.252109Z",
     "iopub.status.idle": "2024-09-19T03:50:51.281108Z",
     "shell.execute_reply": "2024-09-19T03:50:51.279113Z",
     "shell.execute_reply.started": "2024-09-19T03:50:51.254121Z"
    }
   },
   "outputs": [],
   "source": [
    "games['Price'] = games['Price'].str.replace('Free To Play','0')"
   ]
  },
  {
   "cell_type": "code",
   "execution_count": 7,
   "id": "8285482f-f904-4bc7-93b3-39e40a8ac2e8",
   "metadata": {
    "execution": {
     "iopub.execute_input": "2024-09-19T03:50:51.284100Z",
     "iopub.status.busy": "2024-09-19T03:50:51.283102Z",
     "iopub.status.idle": "2024-09-19T03:50:51.315336Z",
     "shell.execute_reply": "2024-09-19T03:50:51.313342Z",
     "shell.execute_reply.started": "2024-09-19T03:50:51.284100Z"
    }
   },
   "outputs": [],
   "source": [
    "games['Price'] = round(games['Price'].astype(np.float64),2)"
   ]
  },
  {
   "cell_type": "code",
   "execution_count": 8,
   "id": "efa1de92-af6a-4156-bd81-d0be0121aa79",
   "metadata": {
    "execution": {
     "iopub.execute_input": "2024-09-19T03:50:51.321319Z",
     "iopub.status.busy": "2024-09-19T03:50:51.319325Z",
     "iopub.status.idle": "2024-09-19T03:50:51.347251Z",
     "shell.execute_reply": "2024-09-19T03:50:51.345255Z",
     "shell.execute_reply.started": "2024-09-19T03:50:51.321319Z"
    }
   },
   "outputs": [
    {
     "data": {
      "text/html": [
       "<div>\n",
       "<style scoped>\n",
       "    .dataframe tbody tr th:only-of-type {\n",
       "        vertical-align: middle;\n",
       "    }\n",
       "\n",
       "    .dataframe tbody tr th {\n",
       "        vertical-align: top;\n",
       "    }\n",
       "\n",
       "    .dataframe thead th {\n",
       "        text-align: right;\n",
       "    }\n",
       "</style>\n",
       "<table border=\"1\" class=\"dataframe\">\n",
       "  <thead>\n",
       "    <tr style=\"text-align: right;\">\n",
       "      <th></th>\n",
       "      <th>Name</th>\n",
       "      <th>Price</th>\n",
       "      <th>Release_date</th>\n",
       "      <th>Review_no</th>\n",
       "      <th>Review_type</th>\n",
       "      <th>Tags</th>\n",
       "      <th>Description</th>\n",
       "    </tr>\n",
       "  </thead>\n",
       "  <tbody>\n",
       "    <tr>\n",
       "      <th>0</th>\n",
       "      <td>Black Myth: Wukong</td>\n",
       "      <td>59.99</td>\n",
       "      <td>Aug 20, 2024</td>\n",
       "      <td>574,097 User Reviews</td>\n",
       "      <td>Overwhelmingly Positive</td>\n",
       "      <td>Mythology,Action RPG,Action,Souls-like,RPG,Com...</td>\n",
       "      <td>Black Myth: Wukong is an action RPG rooted in ...</td>\n",
       "    </tr>\n",
       "    <tr>\n",
       "      <th>1</th>\n",
       "      <td>Warhammer 40,000: Space Marine 2</td>\n",
       "      <td>NaN</td>\n",
       "      <td>Sep 9, 2024</td>\n",
       "      <td>23,591 User Reviews</td>\n",
       "      <td>Very Positive</td>\n",
       "      <td>Warhammer 40K,Action,Adventure,Third-Person Sh...</td>\n",
       "      <td>Embody the superhuman skill and brutality of a...</td>\n",
       "    </tr>\n",
       "    <tr>\n",
       "      <th>2</th>\n",
       "      <td>Counter-Strike 2</td>\n",
       "      <td>0.00</td>\n",
       "      <td>Aug 21, 2012</td>\n",
       "      <td>8,286,153 User Reviews</td>\n",
       "      <td>Very Positive</td>\n",
       "      <td>FPS,Shooter,Multiplayer,Competitive,Action,Tea...</td>\n",
       "      <td>For over two decades, Counter-Strike has offer...</td>\n",
       "    </tr>\n",
       "    <tr>\n",
       "      <th>3</th>\n",
       "      <td>Warframe</td>\n",
       "      <td>0.00</td>\n",
       "      <td>NaN</td>\n",
       "      <td>589,527 User Reviews</td>\n",
       "      <td>Very Positive</td>\n",
       "      <td>Free to Play,Action RPG,Looter Shooter,Third-P...</td>\n",
       "      <td>Awaken as an unstoppable warrior and battle al...</td>\n",
       "    </tr>\n",
       "    <tr>\n",
       "      <th>4</th>\n",
       "      <td>Grand Theft Auto V</td>\n",
       "      <td>10.48</td>\n",
       "      <td>Apr 14, 2015</td>\n",
       "      <td>1,703,156 User Reviews</td>\n",
       "      <td>Very Positive</td>\n",
       "      <td>Open World,Action,Multiplayer,Crime,Automobile...</td>\n",
       "      <td>Grand Theft Auto V for PC offers players the o...</td>\n",
       "    </tr>\n",
       "  </tbody>\n",
       "</table>\n",
       "</div>"
      ],
      "text/plain": [
       "                               Name  Price  Release_date   \n",
       "0                Black Myth: Wukong  59.99  Aug 20, 2024  \\\n",
       "1  Warhammer 40,000: Space Marine 2    NaN   Sep 9, 2024   \n",
       "2                  Counter-Strike 2   0.00  Aug 21, 2012   \n",
       "3                          Warframe   0.00           NaN   \n",
       "4                Grand Theft Auto V  10.48  Apr 14, 2015   \n",
       "\n",
       "                  Review_no              Review_type   \n",
       "0     574,097 User Reviews   Overwhelmingly Positive  \\\n",
       "1      23,591 User Reviews             Very Positive   \n",
       "2   8,286,153 User Reviews             Very Positive   \n",
       "3     589,527 User Reviews             Very Positive   \n",
       "4   1,703,156 User Reviews             Very Positive   \n",
       "\n",
       "                                                Tags   \n",
       "0  Mythology,Action RPG,Action,Souls-like,RPG,Com...  \\\n",
       "1  Warhammer 40K,Action,Adventure,Third-Person Sh...   \n",
       "2  FPS,Shooter,Multiplayer,Competitive,Action,Tea...   \n",
       "3  Free to Play,Action RPG,Looter Shooter,Third-P...   \n",
       "4  Open World,Action,Multiplayer,Crime,Automobile...   \n",
       "\n",
       "                                         Description  \n",
       "0  Black Myth: Wukong is an action RPG rooted in ...  \n",
       "1  Embody the superhuman skill and brutality of a...  \n",
       "2  For over two decades, Counter-Strike has offer...  \n",
       "3  Awaken as an unstoppable warrior and battle al...  \n",
       "4  Grand Theft Auto V for PC offers players the o...  "
      ]
     },
     "execution_count": 8,
     "metadata": {},
     "output_type": "execute_result"
    }
   ],
   "source": [
    "games.head()"
   ]
  },
  {
   "cell_type": "markdown",
   "id": "79862f35-08d1-43d9-be02-57b86c4e0bf3",
   "metadata": {},
   "source": [
    "### <span style='color:#F39C12  '>Release_date Column Solution</span>\n",
    "- Changing the DataType"
   ]
  },
  {
   "cell_type": "code",
   "execution_count": 9,
   "id": "f27c16eb-d564-4f60-88a9-7271a29371bc",
   "metadata": {
    "execution": {
     "iopub.execute_input": "2024-09-19T03:50:51.350242Z",
     "iopub.status.busy": "2024-09-19T03:50:51.349245Z",
     "iopub.status.idle": "2024-09-19T03:50:51.426491Z",
     "shell.execute_reply": "2024-09-19T03:50:51.423497Z",
     "shell.execute_reply.started": "2024-09-19T03:50:51.350242Z"
    }
   },
   "outputs": [],
   "source": [
    "games['Release_date'] = pd.to_datetime(games['Release_date'])"
   ]
  },
  {
   "cell_type": "code",
   "execution_count": 10,
   "id": "1d968ac5-28e3-4b36-a0cc-75e36c7825a2",
   "metadata": {
    "execution": {
     "iopub.execute_input": "2024-09-19T03:50:51.433471Z",
     "iopub.status.busy": "2024-09-19T03:50:51.431482Z",
     "iopub.status.idle": "2024-09-19T03:50:51.459401Z",
     "shell.execute_reply": "2024-09-19T03:50:51.456409Z",
     "shell.execute_reply.started": "2024-09-19T03:50:51.433471Z"
    }
   },
   "outputs": [
    {
     "name": "stdout",
     "output_type": "stream",
     "text": [
      "<class 'pandas.core.frame.DataFrame'>\n",
      "Index: 7812 entries, 0 to 7811\n",
      "Data columns (total 7 columns):\n",
      " #   Column        Non-Null Count  Dtype         \n",
      "---  ------        --------------  -----         \n",
      " 0   Name          7812 non-null   object        \n",
      " 1   Price         7761 non-null   float64       \n",
      " 2   Release_date  7793 non-null   datetime64[ns]\n",
      " 3   Review_no     7765 non-null   object        \n",
      " 4   Review_type   7765 non-null   object        \n",
      " 5   Tags          7812 non-null   object        \n",
      " 6   Description   7386 non-null   object        \n",
      "dtypes: datetime64[ns](1), float64(1), object(5)\n",
      "memory usage: 488.2+ KB\n"
     ]
    }
   ],
   "source": [
    "games.info()"
   ]
  },
  {
   "cell_type": "markdown",
   "id": "7996dd98-52a8-4bc0-9207-484650a2e970",
   "metadata": {
    "execution": {
     "iopub.execute_input": "2024-09-18T11:18:51.906066Z",
     "iopub.status.busy": "2024-09-18T11:18:51.905069Z",
     "iopub.status.idle": "2024-09-18T11:18:51.919975Z",
     "shell.execute_reply": "2024-09-18T11:18:51.917452Z",
     "shell.execute_reply.started": "2024-09-18T11:18:51.906066Z"
    }
   },
   "source": [
    "### <span style='color:#F39C12  '>Review_no Column Solution</span>\n",
    "- Removing the ','\n",
    "- Removing  the 'User Reviews'"
   ]
  },
  {
   "cell_type": "code",
   "execution_count": 11,
   "id": "633ffd4f-c4a2-4d4b-a4d8-5ace51715030",
   "metadata": {
    "execution": {
     "iopub.execute_input": "2024-09-19T03:51:36.013541Z",
     "iopub.status.busy": "2024-09-19T03:51:36.012544Z",
     "iopub.status.idle": "2024-09-19T03:51:36.032491Z",
     "shell.execute_reply": "2024-09-19T03:51:36.030497Z",
     "shell.execute_reply.started": "2024-09-19T03:51:36.013541Z"
    }
   },
   "outputs": [],
   "source": [
    "games['Review_no'] = games['Review_no'].str.replace('User Reviews','').str.strip()"
   ]
  },
  {
   "cell_type": "code",
   "execution_count": 13,
   "id": "820b33eb-d2d9-456e-bd54-c3e39fe2c525",
   "metadata": {
    "execution": {
     "iopub.execute_input": "2024-09-19T03:51:58.647229Z",
     "iopub.status.busy": "2024-09-19T03:51:58.647229Z",
     "iopub.status.idle": "2024-09-19T03:51:58.674156Z",
     "shell.execute_reply": "2024-09-19T03:51:58.673159Z",
     "shell.execute_reply.started": "2024-09-19T03:51:58.647229Z"
    }
   },
   "outputs": [],
   "source": [
    "games['Review_no'] = games['Review_no'].str.replace(',','').str.strip()"
   ]
  },
  {
   "cell_type": "code",
   "execution_count": 14,
   "id": "dabc2dfd-f189-4c8e-bbdd-4c772649547d",
   "metadata": {
    "execution": {
     "iopub.execute_input": "2024-09-19T03:52:01.268805Z",
     "iopub.status.busy": "2024-09-19T03:52:01.267807Z",
     "iopub.status.idle": "2024-09-19T03:52:01.300716Z",
     "shell.execute_reply": "2024-09-19T03:52:01.299721Z",
     "shell.execute_reply.started": "2024-09-19T03:52:01.268805Z"
    }
   },
   "outputs": [
    {
     "data": {
      "text/html": [
       "<div>\n",
       "<style scoped>\n",
       "    .dataframe tbody tr th:only-of-type {\n",
       "        vertical-align: middle;\n",
       "    }\n",
       "\n",
       "    .dataframe tbody tr th {\n",
       "        vertical-align: top;\n",
       "    }\n",
       "\n",
       "    .dataframe thead th {\n",
       "        text-align: right;\n",
       "    }\n",
       "</style>\n",
       "<table border=\"1\" class=\"dataframe\">\n",
       "  <thead>\n",
       "    <tr style=\"text-align: right;\">\n",
       "      <th></th>\n",
       "      <th>Name</th>\n",
       "      <th>Price</th>\n",
       "      <th>Release_date</th>\n",
       "      <th>Review_no</th>\n",
       "      <th>Review_type</th>\n",
       "      <th>Tags</th>\n",
       "      <th>Description</th>\n",
       "    </tr>\n",
       "  </thead>\n",
       "  <tbody>\n",
       "    <tr>\n",
       "      <th>0</th>\n",
       "      <td>Black Myth: Wukong</td>\n",
       "      <td>59.99</td>\n",
       "      <td>2024-08-20</td>\n",
       "      <td>574097</td>\n",
       "      <td>Overwhelmingly Positive</td>\n",
       "      <td>Mythology,Action RPG,Action,Souls-like,RPG,Com...</td>\n",
       "      <td>Black Myth: Wukong is an action RPG rooted in ...</td>\n",
       "    </tr>\n",
       "    <tr>\n",
       "      <th>1</th>\n",
       "      <td>Warhammer 40,000: Space Marine 2</td>\n",
       "      <td>NaN</td>\n",
       "      <td>2024-09-09</td>\n",
       "      <td>23591</td>\n",
       "      <td>Very Positive</td>\n",
       "      <td>Warhammer 40K,Action,Adventure,Third-Person Sh...</td>\n",
       "      <td>Embody the superhuman skill and brutality of a...</td>\n",
       "    </tr>\n",
       "    <tr>\n",
       "      <th>2</th>\n",
       "      <td>Counter-Strike 2</td>\n",
       "      <td>0.00</td>\n",
       "      <td>2012-08-21</td>\n",
       "      <td>8286153</td>\n",
       "      <td>Very Positive</td>\n",
       "      <td>FPS,Shooter,Multiplayer,Competitive,Action,Tea...</td>\n",
       "      <td>For over two decades, Counter-Strike has offer...</td>\n",
       "    </tr>\n",
       "    <tr>\n",
       "      <th>3</th>\n",
       "      <td>Warframe</td>\n",
       "      <td>0.00</td>\n",
       "      <td>NaT</td>\n",
       "      <td>589527</td>\n",
       "      <td>Very Positive</td>\n",
       "      <td>Free to Play,Action RPG,Looter Shooter,Third-P...</td>\n",
       "      <td>Awaken as an unstoppable warrior and battle al...</td>\n",
       "    </tr>\n",
       "    <tr>\n",
       "      <th>4</th>\n",
       "      <td>Grand Theft Auto V</td>\n",
       "      <td>10.48</td>\n",
       "      <td>2015-04-14</td>\n",
       "      <td>1703156</td>\n",
       "      <td>Very Positive</td>\n",
       "      <td>Open World,Action,Multiplayer,Crime,Automobile...</td>\n",
       "      <td>Grand Theft Auto V for PC offers players the o...</td>\n",
       "    </tr>\n",
       "  </tbody>\n",
       "</table>\n",
       "</div>"
      ],
      "text/plain": [
       "                               Name  Price Release_date Review_no   \n",
       "0                Black Myth: Wukong  59.99   2024-08-20    574097  \\\n",
       "1  Warhammer 40,000: Space Marine 2    NaN   2024-09-09     23591   \n",
       "2                  Counter-Strike 2   0.00   2012-08-21   8286153   \n",
       "3                          Warframe   0.00          NaT    589527   \n",
       "4                Grand Theft Auto V  10.48   2015-04-14   1703156   \n",
       "\n",
       "               Review_type                                               Tags   \n",
       "0  Overwhelmingly Positive  Mythology,Action RPG,Action,Souls-like,RPG,Com...  \\\n",
       "1            Very Positive  Warhammer 40K,Action,Adventure,Third-Person Sh...   \n",
       "2            Very Positive  FPS,Shooter,Multiplayer,Competitive,Action,Tea...   \n",
       "3            Very Positive  Free to Play,Action RPG,Looter Shooter,Third-P...   \n",
       "4            Very Positive  Open World,Action,Multiplayer,Crime,Automobile...   \n",
       "\n",
       "                                         Description  \n",
       "0  Black Myth: Wukong is an action RPG rooted in ...  \n",
       "1  Embody the superhuman skill and brutality of a...  \n",
       "2  For over two decades, Counter-Strike has offer...  \n",
       "3  Awaken as an unstoppable warrior and battle al...  \n",
       "4  Grand Theft Auto V for PC offers players the o...  "
      ]
     },
     "execution_count": 14,
     "metadata": {},
     "output_type": "execute_result"
    }
   ],
   "source": [
    "games.head()"
   ]
  },
  {
   "cell_type": "code",
   "execution_count": 21,
   "id": "f8634c1b-9993-4baa-9266-0acee31519b2",
   "metadata": {
    "execution": {
     "iopub.execute_input": "2024-09-19T05:40:53.374002Z",
     "iopub.status.busy": "2024-09-19T05:40:53.372734Z",
     "iopub.status.idle": "2024-09-19T05:40:53.654768Z",
     "shell.execute_reply": "2024-09-19T05:40:53.646565Z",
     "shell.execute_reply.started": "2024-09-19T05:40:53.374002Z"
    }
   },
   "outputs": [],
   "source": [
    "games.to_csv('steam_cleaned.csv',index=False)"
   ]
  },
  {
   "cell_type": "code",
   "execution_count": null,
   "id": "82686b95-6fc6-4487-b13f-78f0e7f2017d",
   "metadata": {},
   "outputs": [],
   "source": []
  },
  {
   "cell_type": "markdown",
   "id": "5a040243-d1ec-4466-b3f3-364d8d09dca8",
   "metadata": {},
   "source": [
    "### <span style='color:#1ABC9C '>Conclusion</span>\n",
    "<span style='color:#BDC3C7 '>\n",
    "    \n",
    "- The missing values cannot be filled until we have done EDA on the dataset and got understanding of the Dataset. \n",
    "- Need to do some work on Tag's column but first we need to do EDA\n",
    "- There is not to much to do with this dataset . Only 'Tags' and 'Description' can be transformed but we will to that in EDA Notebook\n",
    "</span>"
   ]
  },
  {
   "cell_type": "code",
   "execution_count": null,
   "id": "8388870c-9c4d-4e42-b5f8-26e39c872d34",
   "metadata": {},
   "outputs": [],
   "source": []
  }
 ],
 "metadata": {
  "kernelspec": {
   "display_name": "Python 3 (ipykernel)",
   "language": "python",
   "name": "python3"
  },
  "language_info": {
   "codemirror_mode": {
    "name": "ipython",
    "version": 3
   },
   "file_extension": ".py",
   "mimetype": "text/x-python",
   "name": "python",
   "nbconvert_exporter": "python",
   "pygments_lexer": "ipython3",
   "version": "3.10.11"
  }
 },
 "nbformat": 4,
 "nbformat_minor": 5
}
